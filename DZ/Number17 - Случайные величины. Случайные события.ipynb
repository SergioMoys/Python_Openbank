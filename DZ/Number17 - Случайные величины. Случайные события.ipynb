{
 "cells": [
  {
   "cell_type": "code",
   "execution_count": 1,
   "metadata": {},
   "outputs": [],
   "source": [
    "import numpy as np"
   ]
  },
  {
   "cell_type": "code",
   "execution_count": 165,
   "metadata": {},
   "outputs": [
    {
     "name": "stdout",
     "output_type": "stream",
     "text": [
      "Осталось денег:  201\n",
      "Сыграно игр:  10\n",
      "Выпало в последний раз:  598\n",
      "Средний выигрыш за игру:  20.1\n"
     ]
    }
   ],
   "source": [
    "\n",
    "Games = 10   # Количество игр в автомат\n",
    "Money = 10    # Количество Денег\n",
    "\n",
    "for i in range(Games):\n",
    "    random_score = np.random.randint(0, 999)    # Случайное количество очков от 0 до 999\n",
    "    if (random_score/100) == 7.77:\n",
    "        Money += 200\n",
    "    elif random_score/100 == 9.99:\n",
    "        Money += 100\n",
    "    elif random_score/100 == 5.55:\n",
    "        Money += 50\n",
    "    elif random_score/100 == 3.33:\n",
    "        Money += 15\n",
    "    elif random_score/100 == 1.11:\n",
    "        Money += 10\n",
    "    elif random_score/100 == 1.77:\n",
    "        Money += 5\n",
    "    elif random_score/100 == 2.37:\n",
    "        Money += 3\n",
    "    elif random_score/100 == 1.00:\n",
    "        Money += 2\n",
    "    elif random_score/100 == 2.30:\n",
    "        Money += 1\n",
    "    else:\n",
    "        Money -= 1    \n",
    "        cnt = Money/Games\n",
    "\n",
    "\n",
    "print('Осталось денег: ', Money)\n",
    "print('Сыграно игр: ',Games)\n",
    "print('Выпало в последний раз: ' ,random_score)\n",
    "print('Средний выигрыш за игру: ',cnt)"
   ]
  },
  {
   "cell_type": "markdown",
   "metadata": {},
   "source": [
    "#### Игра невыгодна. \n",
    "\n",
    "#### Как правило игрок за одну игру теряет свою ставку\n"
   ]
  },
  {
   "cell_type": "code",
   "execution_count": null,
   "metadata": {},
   "outputs": [],
   "source": []
  }
 ],
 "metadata": {
  "kernelspec": {
   "display_name": "Python 3",
   "language": "python",
   "name": "python3"
  },
  "language_info": {
   "codemirror_mode": {
    "name": "ipython",
    "version": 3
   },
   "file_extension": ".py",
   "mimetype": "text/x-python",
   "name": "python",
   "nbconvert_exporter": "python",
   "pygments_lexer": "ipython3",
   "version": "3.8.3"
  }
 },
 "nbformat": 4,
 "nbformat_minor": 4
}
